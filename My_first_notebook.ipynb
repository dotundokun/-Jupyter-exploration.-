{
  "nbformat": 4,
  "nbformat_minor": 0,
  "metadata": {
    "colab": {
      "provenance": []
    },
    "kernelspec": {
      "name": "python3",
      "display_name": "Python 3"
    },
    "language_info": {
      "name": "python"
    }
  },
  "cells": [
    {
      "cell_type": "code",
      "execution_count": null,
      "metadata": {
        "id": "w0Z5oATe0Tg_"
      },
      "outputs": [],
      "source": []
    },
    {
      "cell_type": "markdown",
      "source": [
        "\"My first markdown cell in Jupyter.\""
      ],
      "metadata": {
        "id": "iH-sVwP52Bxh"
      }
    },
    {
      "cell_type": "code",
      "source": [
        "# prompt: print(\"Hello,World!\")\n",
        "\n",
        "print(\"Hello,World!\")\n",
        "# \"My first markdown cell in Jupyter.\"\n"
      ],
      "metadata": {
        "id": "x-RXRuWb3Qiy"
      },
      "execution_count": null,
      "outputs": []
    }
  ]
}